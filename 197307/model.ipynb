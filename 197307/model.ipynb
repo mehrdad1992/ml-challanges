{
 "cells": [
  {
   "cell_type": "code",
   "execution_count": null,
   "id": "25c65558",
   "metadata": {},
   "outputs": [],
   "source": [
    "import sklearn\n",
    "import pandas as pd"
   ]
  },
  {
   "cell_type": "markdown",
   "id": "54fcb076",
   "metadata": {},
   "source": [
    "## Data Import"
   ]
  },
  {
   "cell_type": "code",
   "execution_count": 5,
   "id": "21a4a880",
   "metadata": {},
   "outputs": [
    {
     "name": "stdout",
     "output_type": "stream",
     "text": [
      "0        روایتی از تحصیل زیرسقف‌های لرزان و سرمای سوزان...\n",
      "1        انقلابی سرشناس بحرین در گفت‌وگو با تسنیم: مردم...\n",
      "2        ‌زندگی مردم در شهر قم ‌جریان دارد / پیشگیری در...\n",
      "3        واکنش &quot;پروفسور کرمی&quot; به دروغ‌پراکنی ...\n",
      "4        مردم نگران تأمین کالاهای موردنیاز خود نباشند/ ...\n",
      "                               ...                        \n",
      "12452            علیرضا زاکانی رئیس مرکز پژوهش‌های مجلس شد\n",
      "12453    قوه قضائیه: تقاضای فرجام در پرونده روح‌الله زم...\n",
      "12454    روسیه: ابراز نگرانی لاوروف و ظریف درباره حضور ...\n",
      "12455                       وزیر خارجه ایران وارد بیروت شد\n",
      "12456           هوشنگ ظریف، استاد موسیقی سنتی ایران درگذشت\n",
      "Name: title, Length: 12457, dtype: object\n",
      "0        گروه استان‌ها- دانش‌آموزان مدرسه روستای کَهنان...\n",
      "1        گروه استان‌ها ــ انقلابی سرشناس بحرین با بیان ...\n",
      "2        گروه استان‌ها ــ با اعلام شیوع ویروس کرونا در ...\n",
      "3        یک متخصص بیوتکنولوژی پزشکی با بیان اینکه مرگ‌و...\n",
      "4        رئیس اتحادیه فروشگاه‌های زنجیره‌ای با اشاره به...\n",
      "                               ...                        \n",
      "12452    به نوشته وبسایت «خانه ملت»، هیأت رئیسه مجلس یا...\n",
      "12453    سخنگوی قوه قضائیه جمهوری اسلامی درباره آخرین و...\n",
      "12454    وزارت خارجه روسیه اعلام کرد که سرگئی لاوروف  و...\n",
      "12455    در حالی که اعتراضات مردمی در لبنان در پی انفجا...\n",
      "12456    هوشنگ ظریف،  استاد برجسته تار روز شنبه ۱۷ اسفن...\n",
      "Name: description, Length: 12457, dtype: object\n"
     ]
    }
   ],
   "source": [
    "import pandas as pd\n",
    "\n",
    "df = pd.read_csv(\"dataset/train_data.csv\")\n",
    "\n",
    "df['combined'] = df['title'] + \" \" + df['description']\n",
    "\n",
    "print(df['title'])\n",
    "print(df['description'])\n",
    "\n",
    "X = df['combined']\n",
    "y = df['tags']\n",
    "\n",
    "# print(\"X (features):\")\n",
    "# print(X.head())\n",
    "\n",
    "# print(\"\\nY (labels):\")\n",
    "# print(y.head())\n"
   ]
  },
  {
   "cell_type": "markdown",
   "id": "4632f7bc",
   "metadata": {},
   "source": [
    "\n",
    "\n",
    "## Preprocessing"
   ]
  },
  {
   "cell_type": "code",
   "execution_count": null,
   "id": "15eb9f1b",
   "metadata": {},
   "outputs": [],
   "source": []
  }
 ],
 "metadata": {
  "kernelspec": {
   "display_name": "env",
   "language": "python",
   "name": "python3"
  },
  "language_info": {
   "codemirror_mode": {
    "name": "ipython",
    "version": 3
   },
   "file_extension": ".py",
   "mimetype": "text/x-python",
   "name": "python",
   "nbconvert_exporter": "python",
   "pygments_lexer": "ipython3",
   "version": "3.11.5"
  }
 },
 "nbformat": 4,
 "nbformat_minor": 5
}
