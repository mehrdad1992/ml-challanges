{
 "cells": [
  {
   "cell_type": "code",
   "execution_count": 1,
   "id": "917860fb",
   "metadata": {},
   "outputs": [],
   "source": [
    "import pandas as pd\n",
    "import numpy as np\n",
    "\n",
    "# Load data\n",
    "train_df = pd.read_csv('data/train.csv')\n",
    "test_df = pd.read_csv('data/test.csv')\n",
    "\n",
    "# Save PassengerId for submission\n",
    "passenger_ids = test_df['PassengerId']\n",
    "\n",
    "# Combine for preprocessing\n",
    "df = pd.concat([train_df.drop('Survived', axis=1), test_df], axis=0)\n",
    "\n",
    "# Preprocessing: fill NA, encode categoricals\n",
    "df['Sex'] = df['Sex'].map({'male': 0, 'female': 1})\n",
    "df['Age'] = df['Age'].fillna(df['Age'].median())\n",
    "df['Fare'] = df['Fare'].fillna(df['Fare'].median())\n",
    "df['Embarked'] = df['Embarked'].fillna('S')\n",
    "df = pd.get_dummies(df, columns=['Embarked'], drop_first=True)\n",
    "df.drop(['Cabin', 'Ticket', 'Name'], axis=1, inplace=True)\n",
    "\n",
    "# Split back\n",
    "X_train = df.iloc[:len(train_df)]\n",
    "X_test = df.iloc[len(train_df):]\n",
    "y_train = train_df['Survived']\n"
   ]
  },
  {
   "cell_type": "code",
   "execution_count": null,
   "id": "154dec3e",
   "metadata": {},
   "outputs": [],
   "source": [
    "import xgboost as xgb\n",
    "\n",
    "# XGBoost DMatrix\n",
    "dtrain_full = xgb.DMatrix(X_train, label=y_train)\n",
    "dtest = xgb.DMatrix(X_test)\n",
    "\n",
    "# The best parameters found before:\n",
    "params = {\n",
    "    'max_depth': 5,\n",
    "    'learning_rate': 0.01,\n",
    "    'n_estimators': 100,  # ignored in XGBoost API\n",
    "    'objective': 'binary:logistic',\n",
    "    'eval_metric': 'logloss',\n",
    "    'subsample': 0.8,\n",
    "    'colsample_bytree': 1.0,\n",
    "    'gamma': 0.1,\n",
    "    'reg_alpha': 0.01,\n",
    "    'reg_lambda': 1.5,\n",
    "    'verbosity': 0\n",
    "}\n",
    "\n",
    "# Train final model\n",
    "final_model = xgb.train(params, dtrain_full, num_boost_round=100)\n"
   ]
  },
  {
   "cell_type": "code",
   "execution_count": 3,
   "id": "0f5b636a",
   "metadata": {},
   "outputs": [
    {
     "name": "stdout",
     "output_type": "stream",
     "text": [
      "✅ File 'submission.csv' saved and ready to upload to Kaggle.\n"
     ]
    }
   ],
   "source": [
    "# Predict probabilities\n",
    "y_pred_proba = final_model.predict(dtest)\n",
    "\n",
    "# Convert to binary (0 or 1)\n",
    "y_pred = (y_pred_proba >= 0.5).astype(int)\n",
    "\n",
    "# Build submission file\n",
    "submission = pd.DataFrame({\n",
    "    'PassengerId': passenger_ids,\n",
    "    'Survived': y_pred\n",
    "})\n",
    "\n",
    "submission.to_csv('data/submission.csv', index=False)\n",
    "print(\"✅ File 'submission.csv' saved and ready to upload to Kaggle.\")\n"
   ]
  },
  {
   "cell_type": "code",
   "execution_count": null,
   "id": "743120ba",
   "metadata": {},
   "outputs": [],
   "source": []
  }
 ],
 "metadata": {
  "kernelspec": {
   "display_name": "env",
   "language": "python",
   "name": "python3"
  },
  "language_info": {
   "codemirror_mode": {
    "name": "ipython",
    "version": 3
   },
   "file_extension": ".py",
   "mimetype": "text/x-python",
   "name": "python",
   "nbconvert_exporter": "python",
   "pygments_lexer": "ipython3",
   "version": "3.10.12"
  }
 },
 "nbformat": 4,
 "nbformat_minor": 5
}
