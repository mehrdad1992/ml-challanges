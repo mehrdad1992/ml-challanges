{
 "cells": [
  {
   "cell_type": "code",
   "execution_count": null,
   "metadata": {
    "_cell_guid": "b1076dfc-b9ad-4769-8c92-a6c4dae69d19",
    "_uuid": "8f2839f25d086af736a60e9eeb907d3b93b6e0e5",
    "execution": {
     "iopub.execute_input": "2025-06-06T14:08:09.301075Z",
     "iopub.status.busy": "2025-06-06T14:08:09.300648Z",
     "iopub.status.idle": "2025-06-06T14:08:09.310562Z",
     "shell.execute_reply": "2025-06-06T14:08:09.309097Z",
     "shell.execute_reply.started": "2025-06-06T14:08:09.301049Z"
    },
    "trusted": true
   },
   "outputs": [
    {
     "name": "stdout",
     "output_type": "stream",
     "text": [
      "/kaggle/input/titanic/train.csv\n",
      "/kaggle/input/titanic/test.csv\n",
      "/kaggle/input/titanic/gender_submission.csv\n"
     ]
    }
   ],
   "source": [
    "# This Python 3 environment comes with many helpful analytics libraries installed\n",
    "# It is defined by the kaggle/python Docker image: https://github.com/kaggle/docker-python\n",
    "# For example, here's several helpful packages to load\n",
    "\n",
    "import numpy as np # linear algebra\n",
    "import pandas as pd # data processing, CSV file I/O (e.g. pd.read_csv)\n",
    "from sklearn.preprocessing import LabelEncoder\n",
    "from xgboost import XGBClassifier\n",
    "\n",
    "# Input data files are available in the read-only \"../input/\" directory\n",
    "# For example, running this (by clicking run or pressing Shift+Enter) will list all files under the input directory\n",
    "\n",
    "# import os\n",
    "# for dirname, _, filenames in os.walk('/kaggle/input'):\n",
    "#     for filename in filenames:\n",
    "#         print(os.path.join(dirname, filename))\n",
    "\n",
    "# You can write up to 20GB to the current directory (/kaggle/working/) that gets preserved as output when you create a version using \"Save & Run All\" \n",
    "# You can also write temporary files to /kaggle/temp/, but they won't be saved outside of the current session"
   ]
  },
  {
   "cell_type": "markdown",
   "metadata": {},
   "source": [
    "# Read data and show nan column"
   ]
  },
  {
   "cell_type": "code",
   "execution_count": null,
   "metadata": {
    "execution": {
     "iopub.execute_input": "2025-06-06T14:08:09.312433Z",
     "iopub.status.busy": "2025-06-06T14:08:09.312124Z",
     "iopub.status.idle": "2025-06-06T14:08:09.359573Z",
     "shell.execute_reply": "2025-06-06T14:08:09.358172Z",
     "shell.execute_reply.started": "2025-06-06T14:08:09.312410Z"
    },
    "trusted": true
   },
   "outputs": [
    {
     "name": "stdout",
     "output_type": "stream",
     "text": [
      "         Survived      Pclass         Age       SibSp       Parch        Fare\n",
      "count  891.000000  891.000000  714.000000  891.000000  891.000000  891.000000\n",
      "mean     0.383838    2.308642   29.699118    0.523008    0.381594   32.204208\n",
      "std      0.486592    0.836071   14.526497    1.102743    0.806057   49.693429\n",
      "min      0.000000    1.000000    0.420000    0.000000    0.000000    0.000000\n",
      "25%      0.000000    2.000000   20.125000    0.000000    0.000000    7.910400\n",
      "50%      0.000000    3.000000   28.000000    0.000000    0.000000   14.454200\n",
      "75%      1.000000    3.000000   38.000000    1.000000    0.000000   31.000000\n",
      "max      1.000000    3.000000   80.000000    8.000000    6.000000  512.329200\n",
      "(891, 11)\n",
      "             Survived  Pclass  \\\n",
      "PassengerId                     \n",
      "1                   0       3   \n",
      "2                   1       1   \n",
      "3                   1       3   \n",
      "4                   1       1   \n",
      "5                   0       3   \n",
      "\n",
      "                                                          Name     Sex   Age  \\\n",
      "PassengerId                                                                    \n",
      "1                                      Braund, Mr. Owen Harris    male  22.0   \n",
      "2            Cumings, Mrs. John Bradley (Florence Briggs Th...  female  38.0   \n",
      "3                                       Heikkinen, Miss. Laina  female  26.0   \n",
      "4                 Futrelle, Mrs. Jacques Heath (Lily May Peel)  female  35.0   \n",
      "5                                     Allen, Mr. William Henry    male  35.0   \n",
      "\n",
      "             SibSp  Parch            Ticket     Fare Cabin Embarked  \n",
      "PassengerId                                                          \n",
      "1                1      0         A/5 21171   7.2500   NaN        S  \n",
      "2                1      0          PC 17599  71.2833   C85        C  \n",
      "3                0      0  STON/O2. 3101282   7.9250   NaN        S  \n",
      "4                1      0            113803  53.1000  C123        S  \n",
      "5                0      0            373450   8.0500   NaN        S  \n",
      "Index(['Cabin'], dtype='object')\n"
     ]
    }
   ],
   "source": [
    "train = pd.read_csv('titanic/data/train.csv', index_col='PassengerId')\n",
    "x_test = pd.read_csv('titanic/data/test.csv', index_col='PassengerId')\n",
    "\n",
    "print(train.describe())\n",
    "print(train.shape)\n",
    "print(train.head())\n",
    "\n",
    "nan_column = train.columns[train.isna().sum() > len(train)/2]\n",
    "print(nan_column)"
   ]
  },
  {
   "cell_type": "markdown",
   "metadata": {},
   "source": [
    "# Split x_train and y_train"
   ]
  },
  {
   "cell_type": "code",
   "execution_count": 134,
   "metadata": {
    "execution": {
     "iopub.execute_input": "2025-06-06T14:08:09.361345Z",
     "iopub.status.busy": "2025-06-06T14:08:09.361109Z",
     "iopub.status.idle": "2025-06-06T14:08:09.371731Z",
     "shell.execute_reply": "2025-06-06T14:08:09.370678Z",
     "shell.execute_reply.started": "2025-06-06T14:08:09.361327Z"
    },
    "trusted": true
   },
   "outputs": [
    {
     "name": "stdout",
     "output_type": "stream",
     "text": [
      "(891,)\n",
      "PassengerId\n",
      "1    0\n",
      "2    1\n",
      "3    1\n",
      "4    1\n",
      "5    0\n",
      "Name: Survived, dtype: int64\n",
      "(891, 9)\n",
      "PassengerId\n",
      "1             A/5 21171\n",
      "2              PC 17599\n",
      "3      STON/O2. 3101282\n",
      "4                113803\n",
      "5                373450\n",
      "             ...       \n",
      "96               374910\n",
      "97             PC 17754\n",
      "98             PC 17759\n",
      "99               231919\n",
      "100              244367\n",
      "Name: Ticket, Length: 100, dtype: object\n"
     ]
    }
   ],
   "source": [
    "y_train = train['Survived']\n",
    "x_train = train.drop('Survived' , axis=1)\n",
    "\n",
    "# clean unrelated data, 'Name'\n",
    "x_train.drop('Name', axis=1, inplace=True)\n",
    "x_test.drop('Name', axis=1, inplace=True)\n",
    "\n",
    "print(y_train.shape)\n",
    "print(y_train.head())\n",
    "print(x_train.shape)\n",
    "print(x_train['Ticket'].head(100))"
   ]
  },
  {
   "cell_type": "markdown",
   "metadata": {},
   "source": [
    "# Nan handling\n",
    "* The column **cabin** has more than half of Nans, so replaced with 'Unknown'\n",
    "* The column **embarked** has two Nans, so replaced with 'U'\n",
    "* The column **Age** has 177, so "
   ]
  },
  {
   "cell_type": "code",
   "execution_count": 135,
   "metadata": {
    "execution": {
     "iopub.execute_input": "2025-06-06T14:08:09.373290Z",
     "iopub.status.busy": "2025-06-06T14:08:09.372944Z",
     "iopub.status.idle": "2025-06-06T14:08:09.403047Z",
     "shell.execute_reply": "2025-06-06T14:08:09.401801Z",
     "shell.execute_reply.started": "2025-06-06T14:08:09.373262Z"
    },
    "trusted": true
   },
   "outputs": [
    {
     "name": "stdout",
     "output_type": "stream",
     "text": [
      "             Pclass  Sex        Age  SibSp  Parch            Ticket     Fare  \\\n",
      "PassengerId                                                                    \n",
      "1                 3    0  22.000000      1      0         A/5 21171   7.2500   \n",
      "2                 1    1  38.000000      1      0          PC 17599  71.2833   \n",
      "3                 3    1  26.000000      0      0  STON/O2. 3101282   7.9250   \n",
      "4                 1    1  35.000000      1      0            113803  53.1000   \n",
      "5                 3    0  35.000000      0      0            373450   8.0500   \n",
      "6                 3    0  29.699118      0      0            330877   8.4583   \n",
      "7                 1    0  54.000000      0      0             17463  51.8625   \n",
      "8                 3    0   2.000000      3      1            349909  21.0750   \n",
      "9                 3    1  27.000000      0      2            347742  11.1333   \n",
      "10                2    1  14.000000      1      0            237736  30.0708   \n",
      "\n",
      "               Cabin Embarked  \n",
      "PassengerId                    \n",
      "1            Unknown        S  \n",
      "2                C85        C  \n",
      "3            Unknown        S  \n",
      "4               C123        S  \n",
      "5            Unknown        S  \n",
      "6            Unknown        Q  \n",
      "7                E46        S  \n",
      "8            Unknown        S  \n",
      "9            Unknown        S  \n",
      "10           Unknown        C  \n",
      "             Pclass  Sex   Age  SibSp  Parch     Ticket     Fare    Cabin  \\\n",
      "PassengerId                                                                 \n",
      "892               3    0  34.5      0      0     330911   7.8292  Unknown   \n",
      "893               3    1  47.0      1      0     363272   7.0000  Unknown   \n",
      "894               2    0  62.0      0      0     240276   9.6875  Unknown   \n",
      "895               3    0  27.0      0      0     315154   8.6625  Unknown   \n",
      "896               3    1  22.0      1      1    3101298  12.2875  Unknown   \n",
      "897               3    0  14.0      0      0       7538   9.2250  Unknown   \n",
      "898               3    1  30.0      0      0     330972   7.6292  Unknown   \n",
      "899               2    0  26.0      1      1     248738  29.0000  Unknown   \n",
      "900               3    1  18.0      0      0       2657   7.2292  Unknown   \n",
      "901               3    0  21.0      2      0  A/4 48871  24.1500  Unknown   \n",
      "\n",
      "            Embarked  \n",
      "PassengerId           \n",
      "892                Q  \n",
      "893                S  \n",
      "894                Q  \n",
      "895                S  \n",
      "896                S  \n",
      "897                S  \n",
      "898                Q  \n",
      "899                S  \n",
      "900                C  \n",
      "901                S  \n"
     ]
    }
   ],
   "source": [
    "x_train['Cabin'] = x_train['Cabin'].fillna('Unknown')\n",
    "x_train['Embarked'] = x_train['Embarked'].fillna('U')\n",
    "mean_age = x_train['Age'].mean()\n",
    "x_train['Age'] = x_train['Age'].fillna(mean_age)\n",
    "x_train['Ticket'] = x_train['Ticket'].fillna('110287')\n",
    "x_train['Sex'] = x_train['Sex'].map({'male': 0, 'female': 1})\n",
    "\n",
    "print(x_train.head(10))\n",
    "\n",
    "# Do the same for test\n",
    "# print(test.isna().sum())\n",
    "x_test['Cabin'] = x_test['Cabin'].fillna('Unknown')\n",
    "x_test['Embarked'] = x_test['Embarked'].fillna('U')\n",
    "mean_age_test = x_test['Age'].mean()\n",
    "x_test['Age'] = x_test['Age'].fillna(mean_age)\n",
    "x_test['Fare'] = x_test['Fare'].bfill()\n",
    "x_test['Sex'] = x_test['Sex'].map({'male': 0, 'female': 1})\n",
    "\n",
    "print(x_test.head(10))\n",
    "\n"
   ]
  },
  {
   "cell_type": "markdown",
   "metadata": {},
   "source": [
    "# Feature Encoding\n"
   ]
  },
  {
   "cell_type": "code",
   "execution_count": 136,
   "metadata": {
    "execution": {
     "iopub.execute_input": "2025-06-06T14:08:09.405193Z",
     "iopub.status.busy": "2025-06-06T14:08:09.404833Z",
     "iopub.status.idle": "2025-06-06T14:08:09.540614Z",
     "shell.execute_reply": "2025-06-06T14:08:09.539571Z",
     "shell.execute_reply.started": "2025-06-06T14:08:09.405171Z"
    },
    "trusted": true
   },
   "outputs": [
    {
     "name": "stdout",
     "output_type": "stream",
     "text": [
      "             Pclass  Sex   Age  SibSp  Parch     Ticket     Fare    Cabin  \\\n",
      "PassengerId                                                                 \n",
      "892               3    0  34.5      0      0     330911   7.8292  Unknown   \n",
      "893               3    1  47.0      1      0     363272   7.0000  Unknown   \n",
      "894               2    0  62.0      0      0     240276   9.6875  Unknown   \n",
      "895               3    0  27.0      0      0     315154   8.6625  Unknown   \n",
      "896               3    1  22.0      1      1    3101298  12.2875  Unknown   \n",
      "897               3    0  14.0      0      0       7538   9.2250  Unknown   \n",
      "898               3    1  30.0      0      0     330972   7.6292  Unknown   \n",
      "899               2    0  26.0      1      1     248738  29.0000  Unknown   \n",
      "900               3    1  18.0      0      0       2657   7.2292  Unknown   \n",
      "901               3    0  21.0      2      0  A/4 48871  24.1500  Unknown   \n",
      "\n",
      "            Embarked  \n",
      "PassengerId           \n",
      "892                Q  \n",
      "893                S  \n",
      "894                Q  \n",
      "895                S  \n",
      "896                S  \n",
      "897                S  \n",
      "898                Q  \n",
      "899                S  \n",
      "900                C  \n",
      "901                S  \n",
      "             Pclass  Sex   Age  SibSp  Parch     Fare  TicketNumber  \\\n",
      "PassengerId                                                           \n",
      "892               3    0  34.5      0      0   7.8292        330911   \n",
      "893               3    1  47.0      1      0   7.0000        363272   \n",
      "894               2    0  62.0      0      0   9.6875        240276   \n",
      "895               3    0  27.0      0      0   8.6625        315154   \n",
      "896               3    1  22.0      1      1  12.2875       3101298   \n",
      "897               3    0  14.0      0      0   9.2250          7538   \n",
      "898               3    1  30.0      0      0   7.6292        330972   \n",
      "899               2    0  26.0      1      1  29.0000        248738   \n",
      "900               3    1  18.0      0      0   7.2292          2657   \n",
      "901               3    0  21.0      2      0  24.1500         48871   \n",
      "\n",
      "             TicketPrefixEncoded  CabinEncoded  EmbarkedEncoded  \n",
      "PassengerId                                                      \n",
      "892                           15            76                1  \n",
      "893                           15            76                2  \n",
      "894                           15            76                1  \n",
      "895                           15            76                2  \n",
      "896                           15            76                2  \n",
      "897                           15            76                2  \n",
      "898                           15            76                1  \n",
      "899                           15            76                2  \n",
      "900                           15            76                0  \n",
      "901                            3            76                2  \n"
     ]
    }
   ],
   "source": [
    "def split_ticket(ticket):\n",
    "    parts = ticket.split(' ')\n",
    "    if len(parts) == 1:\n",
    "        return pd.Series(['None', parts[0]])\n",
    "    else:\n",
    "        return pd.Series([' '.join(parts[:-1]), parts[-1]])\n",
    "\n",
    "le_ticket = LabelEncoder()\n",
    "le_cabin = LabelEncoder()\n",
    "le_embarked = LabelEncoder()\n",
    "\n",
    "x_train[['TicketPrefix', 'TicketNumber']] = x_train['Ticket'].apply(split_ticket)\n",
    "# Step 2: Convert TicketNumber to numeric (optional, helps models)\n",
    "x_train['TicketNumber'] = pd.to_numeric(x_train['TicketNumber'], errors='coerce')\n",
    "x_train['TicketPrefixEncoded'] = le_ticket.fit_transform(x_train['TicketPrefix'])\n",
    "x_train['CabinEncoded'] = le_cabin.fit_transform(x_train['Cabin'])\n",
    "x_train['EmbarkedEncoded'] = le_embarked.fit_transform(x_train['Embarked'])\n",
    "\n",
    "x_train.drop(['TicketPrefix'], axis=1, inplace=True)\n",
    "x_train.drop(['Ticket'], axis=1, inplace=True)\n",
    "x_train.drop(['Cabin'], axis=1, inplace=True)\n",
    "x_train.drop(['Embarked'], axis=1, inplace=True)\n",
    "print(x_test.head(10))\n",
    "\n",
    "x_test[['TicketPrefix', 'TicketNumber']] = x_test['Ticket'].apply(split_ticket)\n",
    "x_test['TicketNumber'] = pd.to_numeric(x_test['TicketNumber'], errors='coerce')\n",
    "x_test['TicketPrefixEncoded'] = le_ticket.fit_transform(x_test['TicketPrefix'])\n",
    "x_test['CabinEncoded'] = le_cabin.fit_transform(x_test['Cabin'])\n",
    "x_test['EmbarkedEncoded'] = le_embarked.fit_transform(x_test['Embarked'])\n",
    "x_test.drop(['TicketPrefix'], axis=1, inplace=True)\n",
    "x_test.drop(['Ticket'], axis=1, inplace=True)\n",
    "x_test.drop(['Cabin'], axis=1, inplace=True)\n",
    "x_test.drop(['Embarked'], axis=1, inplace=True)\n",
    "\n",
    "print(x_test.head(10))"
   ]
  },
  {
   "cell_type": "markdown",
   "metadata": {},
   "source": [
    "# Model Training"
   ]
  },
  {
   "cell_type": "code",
   "execution_count": 137,
   "metadata": {
    "execution": {
     "iopub.execute_input": "2025-06-06T14:08:09.541732Z",
     "iopub.status.busy": "2025-06-06T14:08:09.541491Z",
     "iopub.status.idle": "2025-06-06T14:08:09.642567Z",
     "shell.execute_reply": "2025-06-06T14:08:09.640158Z",
     "shell.execute_reply.started": "2025-06-06T14:08:09.541711Z"
    },
    "trusted": true
   },
   "outputs": [
    {
     "data": {
      "text/html": [
       "<style>#sk-container-id-3 {color: black;background-color: white;}#sk-container-id-3 pre{padding: 0;}#sk-container-id-3 div.sk-toggleable {background-color: white;}#sk-container-id-3 label.sk-toggleable__label {cursor: pointer;display: block;width: 100%;margin-bottom: 0;padding: 0.3em;box-sizing: border-box;text-align: center;}#sk-container-id-3 label.sk-toggleable__label-arrow:before {content: \"▸\";float: left;margin-right: 0.25em;color: #696969;}#sk-container-id-3 label.sk-toggleable__label-arrow:hover:before {color: black;}#sk-container-id-3 div.sk-estimator:hover label.sk-toggleable__label-arrow:before {color: black;}#sk-container-id-3 div.sk-toggleable__content {max-height: 0;max-width: 0;overflow: hidden;text-align: left;background-color: #f0f8ff;}#sk-container-id-3 div.sk-toggleable__content pre {margin: 0.2em;color: black;border-radius: 0.25em;background-color: #f0f8ff;}#sk-container-id-3 input.sk-toggleable__control:checked~div.sk-toggleable__content {max-height: 200px;max-width: 100%;overflow: auto;}#sk-container-id-3 input.sk-toggleable__control:checked~label.sk-toggleable__label-arrow:before {content: \"▾\";}#sk-container-id-3 div.sk-estimator input.sk-toggleable__control:checked~label.sk-toggleable__label {background-color: #d4ebff;}#sk-container-id-3 div.sk-label input.sk-toggleable__control:checked~label.sk-toggleable__label {background-color: #d4ebff;}#sk-container-id-3 input.sk-hidden--visually {border: 0;clip: rect(1px 1px 1px 1px);clip: rect(1px, 1px, 1px, 1px);height: 1px;margin: -1px;overflow: hidden;padding: 0;position: absolute;width: 1px;}#sk-container-id-3 div.sk-estimator {font-family: monospace;background-color: #f0f8ff;border: 1px dotted black;border-radius: 0.25em;box-sizing: border-box;margin-bottom: 0.5em;}#sk-container-id-3 div.sk-estimator:hover {background-color: #d4ebff;}#sk-container-id-3 div.sk-parallel-item::after {content: \"\";width: 100%;border-bottom: 1px solid gray;flex-grow: 1;}#sk-container-id-3 div.sk-label:hover label.sk-toggleable__label {background-color: #d4ebff;}#sk-container-id-3 div.sk-serial::before {content: \"\";position: absolute;border-left: 1px solid gray;box-sizing: border-box;top: 0;bottom: 0;left: 50%;z-index: 0;}#sk-container-id-3 div.sk-serial {display: flex;flex-direction: column;align-items: center;background-color: white;padding-right: 0.2em;padding-left: 0.2em;position: relative;}#sk-container-id-3 div.sk-item {position: relative;z-index: 1;}#sk-container-id-3 div.sk-parallel {display: flex;align-items: stretch;justify-content: center;background-color: white;position: relative;}#sk-container-id-3 div.sk-item::before, #sk-container-id-3 div.sk-parallel-item::before {content: \"\";position: absolute;border-left: 1px solid gray;box-sizing: border-box;top: 0;bottom: 0;left: 50%;z-index: -1;}#sk-container-id-3 div.sk-parallel-item {display: flex;flex-direction: column;z-index: 1;position: relative;background-color: white;}#sk-container-id-3 div.sk-parallel-item:first-child::after {align-self: flex-end;width: 50%;}#sk-container-id-3 div.sk-parallel-item:last-child::after {align-self: flex-start;width: 50%;}#sk-container-id-3 div.sk-parallel-item:only-child::after {width: 0;}#sk-container-id-3 div.sk-dashed-wrapped {border: 1px dashed gray;margin: 0 0.4em 0.5em 0.4em;box-sizing: border-box;padding-bottom: 0.4em;background-color: white;}#sk-container-id-3 div.sk-label label {font-family: monospace;font-weight: bold;display: inline-block;line-height: 1.2em;}#sk-container-id-3 div.sk-label-container {text-align: center;}#sk-container-id-3 div.sk-container {/* jupyter's `normalize.less` sets `[hidden] { display: none; }` but bootstrap.min.css set `[hidden] { display: none !important; }` so we also need the `!important` here to be able to override the default hidden behavior on the sphinx rendered scikit-learn.org. See: https://github.com/scikit-learn/scikit-learn/issues/21755 */display: inline-block !important;position: relative;}#sk-container-id-3 div.sk-text-repr-fallback {display: none;}</style><div id=\"sk-container-id-3\" class=\"sk-top-container\"><div class=\"sk-text-repr-fallback\"><pre>XGBClassifier(base_score=None, booster=None, callbacks=None,\n",
       "              colsample_bylevel=None, colsample_bynode=None,\n",
       "              colsample_bytree=None, device=None, early_stopping_rounds=None,\n",
       "              enable_categorical=False, eval_metric=None, feature_types=None,\n",
       "              gamma=None, grow_policy=None, importance_type=None,\n",
       "              interaction_constraints=None, learning_rate=None, max_bin=None,\n",
       "              max_cat_threshold=None, max_cat_to_onehot=None,\n",
       "              max_delta_step=None, max_depth=None, max_leaves=None,\n",
       "              min_child_weight=None, missing=nan, monotone_constraints=None,\n",
       "              multi_strategy=None, n_estimators=None, n_jobs=None,\n",
       "              num_parallel_tree=None, random_state=None, ...)</pre><b>In a Jupyter environment, please rerun this cell to show the HTML representation or trust the notebook. <br />On GitHub, the HTML representation is unable to render, please try loading this page with nbviewer.org.</b></div><div class=\"sk-container\" hidden><div class=\"sk-item\"><div class=\"sk-estimator sk-toggleable\"><input class=\"sk-toggleable__control sk-hidden--visually\" id=\"sk-estimator-id-3\" type=\"checkbox\" checked><label for=\"sk-estimator-id-3\" class=\"sk-toggleable__label sk-toggleable__label-arrow\">XGBClassifier</label><div class=\"sk-toggleable__content\"><pre>XGBClassifier(base_score=None, booster=None, callbacks=None,\n",
       "              colsample_bylevel=None, colsample_bynode=None,\n",
       "              colsample_bytree=None, device=None, early_stopping_rounds=None,\n",
       "              enable_categorical=False, eval_metric=None, feature_types=None,\n",
       "              gamma=None, grow_policy=None, importance_type=None,\n",
       "              interaction_constraints=None, learning_rate=None, max_bin=None,\n",
       "              max_cat_threshold=None, max_cat_to_onehot=None,\n",
       "              max_delta_step=None, max_depth=None, max_leaves=None,\n",
       "              min_child_weight=None, missing=nan, monotone_constraints=None,\n",
       "              multi_strategy=None, n_estimators=None, n_jobs=None,\n",
       "              num_parallel_tree=None, random_state=None, ...)</pre></div></div></div></div></div>"
      ],
      "text/plain": [
       "XGBClassifier(base_score=None, booster=None, callbacks=None,\n",
       "              colsample_bylevel=None, colsample_bynode=None,\n",
       "              colsample_bytree=None, device=None, early_stopping_rounds=None,\n",
       "              enable_categorical=False, eval_metric=None, feature_types=None,\n",
       "              gamma=None, grow_policy=None, importance_type=None,\n",
       "              interaction_constraints=None, learning_rate=None, max_bin=None,\n",
       "              max_cat_threshold=None, max_cat_to_onehot=None,\n",
       "              max_delta_step=None, max_depth=None, max_leaves=None,\n",
       "              min_child_weight=None, missing=nan, monotone_constraints=None,\n",
       "              multi_strategy=None, n_estimators=None, n_jobs=None,\n",
       "              num_parallel_tree=None, random_state=None, ...)"
      ]
     },
     "execution_count": 137,
     "metadata": {},
     "output_type": "execute_result"
    }
   ],
   "source": [
    "model = XGBClassifier(use_label_encoder=False)\n",
    "model.fit(x_train, y_train)\n",
    "\n"
   ]
  },
  {
   "cell_type": "markdown",
   "metadata": {},
   "source": [
    "# Model Predict"
   ]
  },
  {
   "cell_type": "code",
   "execution_count": null,
   "metadata": {
    "execution": {
     "iopub.execute_input": "2025-06-06T14:08:09.643611Z",
     "iopub.status.busy": "2025-06-06T14:08:09.643328Z",
     "iopub.status.idle": "2025-06-06T14:08:09.662381Z",
     "shell.execute_reply": "2025-06-06T14:08:09.661385Z",
     "shell.execute_reply.started": "2025-06-06T14:08:09.643589Z"
    },
    "trusted": true
   },
   "outputs": [
    {
     "name": "stdout",
     "output_type": "stream",
     "text": [
      "y_train shape:  (891,)\n",
      "Index([ 892,  893,  894,  895,  896,  897,  898,  899,  900,  901,\n",
      "       ...\n",
      "       1300, 1301, 1302, 1303, 1304, 1305, 1306, 1307, 1308, 1309],\n",
      "      dtype='int64', name='PassengerId', length=418)\n",
      "[0 0 0 1 1 1 0 0 1 0 0 0 1 0 1 1 0 1 1 1 0 1 1 1 1 0 1 1 0 1 0 0 1 0 1 1 0\n",
      " 0 0 1 0 0 1 1 1 0 0 0 1 1 1 0 1 1 0 0 0 0 0 1 0 1 0 1 1 1 1 0 0 1 1 0 1 1\n",
      " 1 0 0 1 0 1 1 0 0 0 1 1 1 1 0 1 0 0 1 0 1 1 1 1 1 0 1 0 0 0 1 0 0 0 0 0 0\n",
      " 1 1 1 1 0 0 1 0 1 1 1 1 0 0 1 1 1 0 0 1 0 0 0 0 0 1 0 0 0 0 1 0 0 1 0 0 0\n",
      " 1 0 1 0 0 1 0 1 1 1 0 1 1 1 1 0 0 0 0 0 1 0 0 1 0 0 0 1 1 1 1 1 1 0 1 1 1\n",
      " 0 1 0 0 0 0 0 1 0 1 0 1 0 0 1 1 1 1 1 0 1 1 0 1 0 1 0 0 1 0 0 1 0 1 0 1 0\n",
      " 1 0 1 1 0 1 0 0 0 1 0 0 0 0 0 1 1 1 1 1 0 0 0 0 1 0 1 1 1 1 1 0 1 0 0 0 1\n",
      " 0 0 0 1 1 0 0 0 0 0 0 1 0 1 1 1 1 0 0 0 0 0 1 0 1 1 0 0 1 1 0 0 0 1 0 0 0\n",
      " 1 1 0 1 0 0 0 0 0 1 1 1 1 0 0 1 0 0 1 1 1 0 1 0 0 1 0 1 1 0 1 0 0 0 1 1 0\n",
      " 1 1 0 1 0 0 0 1 0 0 1 0 0 0 0 0 1 1 0 0 0 1 0 1 0 0 1 0 1 1 1 1 0 0 0 1 1\n",
      " 0 1 0 0 1 1 0 0 0 1 0 0 0 1 0 1 0 0 0 0 1 1 1 0 0 1 0 1 0 0 1 0 1 0 0 0 0\n",
      " 0 1 1 0 1 1 0 1 0 0 1]\n"
     ]
    }
   ],
   "source": [
    "y_test = model.predict(x_test)\n",
    "\n",
    "print(\"y_train shape: \", y_train.shape)\n",
    "print(x_test.index)\n",
    "print(y_test)\n",
    "\n",
    "file = pd.DataFrame({\"PassengerId\":x_test.index, \"Survived\":y_test})\n",
    "file.to_csv(\"titanic/data/gender_submission.csv\", index=False)"
   ]
  }
 ],
 "metadata": {
  "kaggle": {
   "accelerator": "none",
   "dataSources": [
    {
     "databundleVersionId": 26502,
     "sourceId": 3136,
     "sourceType": "competition"
    }
   ],
   "dockerImageVersionId": 31040,
   "isGpuEnabled": false,
   "isInternetEnabled": false,
   "language": "python",
   "sourceType": "notebook"
  },
  "kernelspec": {
   "display_name": "Python 3",
   "language": "python",
   "name": "python3"
  },
  "language_info": {
   "codemirror_mode": {
    "name": "ipython",
    "version": 3
   },
   "file_extension": ".py",
   "mimetype": "text/x-python",
   "name": "python",
   "nbconvert_exporter": "python",
   "pygments_lexer": "ipython3",
   "version": "3.11.11"
  }
 },
 "nbformat": 4,
 "nbformat_minor": 4
}
