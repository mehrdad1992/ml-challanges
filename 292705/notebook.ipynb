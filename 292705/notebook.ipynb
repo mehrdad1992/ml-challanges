{
 "cells": [
  {
   "cell_type": "code",
   "execution_count": 44,
   "id": "db5f2eb6-abcd-47aa-9197-e8a473531d20",
   "metadata": {
    "ExecuteTime": {
     "end_time": "2025-05-17T23:08:18.700778700Z",
     "start_time": "2025-05-17T23:08:18.698653Z"
    }
   },
   "outputs": [],
   "source": [
    "import pandas as pd"
   ]
  },
  {
   "cell_type": "markdown",
   "id": "4944dbe3",
   "metadata": {},
   "source": [
    "<h3 align=right style=\"line-height:200%;font-family:vazir;color:#0099cc\">\n",
    "<font face=\"vazir\" color=\"#0099cc\">\n",
    "مرحله اول\n",
    "</font>\n",
    "</h3>\n",
    "\n",
    "<p dir=rtl style=\"direction: rtl;text-align: right;line-height:200%;font-family:vazir;font-size:medium\">\n",
    "<font face=\"vazir\" size=3>\n",
    "در ابتدا، دو مجموعه‌داده را از پوشهٔ داده بارگذاری کنید.\n",
    "\n",
    "<br>\n",
    "Data/athlete_events.csv\n",
    "</font>\n",
    "</p>"
   ]
  },
  {
   "cell_type": "code",
   "execution_count": 45,
   "id": "e78a7c34-5ddc-4ead-a911-3853c918789f",
   "metadata": {
    "ExecuteTime": {
     "end_time": "2025-05-17T23:08:19.105329400Z",
     "start_time": "2025-05-17T23:08:18.704284Z"
    }
   },
   "outputs": [
    {
     "ename": "FileNotFoundError",
     "evalue": "[Errno 2] No such file or directory: 'athlete_events.csv'",
     "output_type": "error",
     "traceback": [
      "\u001b[31m---------------------------------------------------------------------------\u001b[39m",
      "\u001b[31mFileNotFoundError\u001b[39m                         Traceback (most recent call last)",
      "\u001b[36mCell\u001b[39m\u001b[36m \u001b[39m\u001b[32mIn[45]\u001b[39m\u001b[32m, line 1\u001b[39m\n\u001b[32m----> \u001b[39m\u001b[32m1\u001b[39m data = \u001b[43mpd\u001b[49m\u001b[43m.\u001b[49m\u001b[43mread_csv\u001b[49m\u001b[43m(\u001b[49m\u001b[33;43m\"\u001b[39;49m\u001b[33;43mathlete_events.csv\u001b[39;49m\u001b[33;43m\"\u001b[39;49m\u001b[43m)\u001b[49m\n",
      "\u001b[36mFile \u001b[39m\u001b[32mc:\\Users\\Hatef\\AppData\\Local\\Programs\\Python\\Python311\\Lib\\site-packages\\pandas\\io\\parsers\\readers.py:1026\u001b[39m, in \u001b[36mread_csv\u001b[39m\u001b[34m(filepath_or_buffer, sep, delimiter, header, names, index_col, usecols, dtype, engine, converters, true_values, false_values, skipinitialspace, skiprows, skipfooter, nrows, na_values, keep_default_na, na_filter, verbose, skip_blank_lines, parse_dates, infer_datetime_format, keep_date_col, date_parser, date_format, dayfirst, cache_dates, iterator, chunksize, compression, thousands, decimal, lineterminator, quotechar, quoting, doublequote, escapechar, comment, encoding, encoding_errors, dialect, on_bad_lines, delim_whitespace, low_memory, memory_map, float_precision, storage_options, dtype_backend)\u001b[39m\n\u001b[32m   1013\u001b[39m kwds_defaults = _refine_defaults_read(\n\u001b[32m   1014\u001b[39m     dialect,\n\u001b[32m   1015\u001b[39m     delimiter,\n\u001b[32m   (...)\u001b[39m\u001b[32m   1022\u001b[39m     dtype_backend=dtype_backend,\n\u001b[32m   1023\u001b[39m )\n\u001b[32m   1024\u001b[39m kwds.update(kwds_defaults)\n\u001b[32m-> \u001b[39m\u001b[32m1026\u001b[39m \u001b[38;5;28;01mreturn\u001b[39;00m \u001b[43m_read\u001b[49m\u001b[43m(\u001b[49m\u001b[43mfilepath_or_buffer\u001b[49m\u001b[43m,\u001b[49m\u001b[43m \u001b[49m\u001b[43mkwds\u001b[49m\u001b[43m)\u001b[49m\n",
      "\u001b[36mFile \u001b[39m\u001b[32mc:\\Users\\Hatef\\AppData\\Local\\Programs\\Python\\Python311\\Lib\\site-packages\\pandas\\io\\parsers\\readers.py:620\u001b[39m, in \u001b[36m_read\u001b[39m\u001b[34m(filepath_or_buffer, kwds)\u001b[39m\n\u001b[32m    617\u001b[39m _validate_names(kwds.get(\u001b[33m\"\u001b[39m\u001b[33mnames\u001b[39m\u001b[33m\"\u001b[39m, \u001b[38;5;28;01mNone\u001b[39;00m))\n\u001b[32m    619\u001b[39m \u001b[38;5;66;03m# Create the parser.\u001b[39;00m\n\u001b[32m--> \u001b[39m\u001b[32m620\u001b[39m parser = \u001b[43mTextFileReader\u001b[49m\u001b[43m(\u001b[49m\u001b[43mfilepath_or_buffer\u001b[49m\u001b[43m,\u001b[49m\u001b[43m \u001b[49m\u001b[43m*\u001b[49m\u001b[43m*\u001b[49m\u001b[43mkwds\u001b[49m\u001b[43m)\u001b[49m\n\u001b[32m    622\u001b[39m \u001b[38;5;28;01mif\u001b[39;00m chunksize \u001b[38;5;129;01mor\u001b[39;00m iterator:\n\u001b[32m    623\u001b[39m     \u001b[38;5;28;01mreturn\u001b[39;00m parser\n",
      "\u001b[36mFile \u001b[39m\u001b[32mc:\\Users\\Hatef\\AppData\\Local\\Programs\\Python\\Python311\\Lib\\site-packages\\pandas\\io\\parsers\\readers.py:1620\u001b[39m, in \u001b[36mTextFileReader.__init__\u001b[39m\u001b[34m(self, f, engine, **kwds)\u001b[39m\n\u001b[32m   1617\u001b[39m     \u001b[38;5;28mself\u001b[39m.options[\u001b[33m\"\u001b[39m\u001b[33mhas_index_names\u001b[39m\u001b[33m\"\u001b[39m] = kwds[\u001b[33m\"\u001b[39m\u001b[33mhas_index_names\u001b[39m\u001b[33m\"\u001b[39m]\n\u001b[32m   1619\u001b[39m \u001b[38;5;28mself\u001b[39m.handles: IOHandles | \u001b[38;5;28;01mNone\u001b[39;00m = \u001b[38;5;28;01mNone\u001b[39;00m\n\u001b[32m-> \u001b[39m\u001b[32m1620\u001b[39m \u001b[38;5;28mself\u001b[39m._engine = \u001b[38;5;28;43mself\u001b[39;49m\u001b[43m.\u001b[49m\u001b[43m_make_engine\u001b[49m\u001b[43m(\u001b[49m\u001b[43mf\u001b[49m\u001b[43m,\u001b[49m\u001b[43m \u001b[49m\u001b[38;5;28;43mself\u001b[39;49m\u001b[43m.\u001b[49m\u001b[43mengine\u001b[49m\u001b[43m)\u001b[49m\n",
      "\u001b[36mFile \u001b[39m\u001b[32mc:\\Users\\Hatef\\AppData\\Local\\Programs\\Python\\Python311\\Lib\\site-packages\\pandas\\io\\parsers\\readers.py:1880\u001b[39m, in \u001b[36mTextFileReader._make_engine\u001b[39m\u001b[34m(self, f, engine)\u001b[39m\n\u001b[32m   1878\u001b[39m     \u001b[38;5;28;01mif\u001b[39;00m \u001b[33m\"\u001b[39m\u001b[33mb\u001b[39m\u001b[33m\"\u001b[39m \u001b[38;5;129;01mnot\u001b[39;00m \u001b[38;5;129;01min\u001b[39;00m mode:\n\u001b[32m   1879\u001b[39m         mode += \u001b[33m\"\u001b[39m\u001b[33mb\u001b[39m\u001b[33m\"\u001b[39m\n\u001b[32m-> \u001b[39m\u001b[32m1880\u001b[39m \u001b[38;5;28mself\u001b[39m.handles = \u001b[43mget_handle\u001b[49m\u001b[43m(\u001b[49m\n\u001b[32m   1881\u001b[39m \u001b[43m    \u001b[49m\u001b[43mf\u001b[49m\u001b[43m,\u001b[49m\n\u001b[32m   1882\u001b[39m \u001b[43m    \u001b[49m\u001b[43mmode\u001b[49m\u001b[43m,\u001b[49m\n\u001b[32m   1883\u001b[39m \u001b[43m    \u001b[49m\u001b[43mencoding\u001b[49m\u001b[43m=\u001b[49m\u001b[38;5;28;43mself\u001b[39;49m\u001b[43m.\u001b[49m\u001b[43moptions\u001b[49m\u001b[43m.\u001b[49m\u001b[43mget\u001b[49m\u001b[43m(\u001b[49m\u001b[33;43m\"\u001b[39;49m\u001b[33;43mencoding\u001b[39;49m\u001b[33;43m\"\u001b[39;49m\u001b[43m,\u001b[49m\u001b[43m \u001b[49m\u001b[38;5;28;43;01mNone\u001b[39;49;00m\u001b[43m)\u001b[49m\u001b[43m,\u001b[49m\n\u001b[32m   1884\u001b[39m \u001b[43m    \u001b[49m\u001b[43mcompression\u001b[49m\u001b[43m=\u001b[49m\u001b[38;5;28;43mself\u001b[39;49m\u001b[43m.\u001b[49m\u001b[43moptions\u001b[49m\u001b[43m.\u001b[49m\u001b[43mget\u001b[49m\u001b[43m(\u001b[49m\u001b[33;43m\"\u001b[39;49m\u001b[33;43mcompression\u001b[39;49m\u001b[33;43m\"\u001b[39;49m\u001b[43m,\u001b[49m\u001b[43m \u001b[49m\u001b[38;5;28;43;01mNone\u001b[39;49;00m\u001b[43m)\u001b[49m\u001b[43m,\u001b[49m\n\u001b[32m   1885\u001b[39m \u001b[43m    \u001b[49m\u001b[43mmemory_map\u001b[49m\u001b[43m=\u001b[49m\u001b[38;5;28;43mself\u001b[39;49m\u001b[43m.\u001b[49m\u001b[43moptions\u001b[49m\u001b[43m.\u001b[49m\u001b[43mget\u001b[49m\u001b[43m(\u001b[49m\u001b[33;43m\"\u001b[39;49m\u001b[33;43mmemory_map\u001b[39;49m\u001b[33;43m\"\u001b[39;49m\u001b[43m,\u001b[49m\u001b[43m \u001b[49m\u001b[38;5;28;43;01mFalse\u001b[39;49;00m\u001b[43m)\u001b[49m\u001b[43m,\u001b[49m\n\u001b[32m   1886\u001b[39m \u001b[43m    \u001b[49m\u001b[43mis_text\u001b[49m\u001b[43m=\u001b[49m\u001b[43mis_text\u001b[49m\u001b[43m,\u001b[49m\n\u001b[32m   1887\u001b[39m \u001b[43m    \u001b[49m\u001b[43merrors\u001b[49m\u001b[43m=\u001b[49m\u001b[38;5;28;43mself\u001b[39;49m\u001b[43m.\u001b[49m\u001b[43moptions\u001b[49m\u001b[43m.\u001b[49m\u001b[43mget\u001b[49m\u001b[43m(\u001b[49m\u001b[33;43m\"\u001b[39;49m\u001b[33;43mencoding_errors\u001b[39;49m\u001b[33;43m\"\u001b[39;49m\u001b[43m,\u001b[49m\u001b[43m \u001b[49m\u001b[33;43m\"\u001b[39;49m\u001b[33;43mstrict\u001b[39;49m\u001b[33;43m\"\u001b[39;49m\u001b[43m)\u001b[49m\u001b[43m,\u001b[49m\n\u001b[32m   1888\u001b[39m \u001b[43m    \u001b[49m\u001b[43mstorage_options\u001b[49m\u001b[43m=\u001b[49m\u001b[38;5;28;43mself\u001b[39;49m\u001b[43m.\u001b[49m\u001b[43moptions\u001b[49m\u001b[43m.\u001b[49m\u001b[43mget\u001b[49m\u001b[43m(\u001b[49m\u001b[33;43m\"\u001b[39;49m\u001b[33;43mstorage_options\u001b[39;49m\u001b[33;43m\"\u001b[39;49m\u001b[43m,\u001b[49m\u001b[43m \u001b[49m\u001b[38;5;28;43;01mNone\u001b[39;49;00m\u001b[43m)\u001b[49m\u001b[43m,\u001b[49m\n\u001b[32m   1889\u001b[39m \u001b[43m\u001b[49m\u001b[43m)\u001b[49m\n\u001b[32m   1890\u001b[39m \u001b[38;5;28;01massert\u001b[39;00m \u001b[38;5;28mself\u001b[39m.handles \u001b[38;5;129;01mis\u001b[39;00m \u001b[38;5;129;01mnot\u001b[39;00m \u001b[38;5;28;01mNone\u001b[39;00m\n\u001b[32m   1891\u001b[39m f = \u001b[38;5;28mself\u001b[39m.handles.handle\n",
      "\u001b[36mFile \u001b[39m\u001b[32mc:\\Users\\Hatef\\AppData\\Local\\Programs\\Python\\Python311\\Lib\\site-packages\\pandas\\io\\common.py:873\u001b[39m, in \u001b[36mget_handle\u001b[39m\u001b[34m(path_or_buf, mode, encoding, compression, memory_map, is_text, errors, storage_options)\u001b[39m\n\u001b[32m    868\u001b[39m \u001b[38;5;28;01melif\u001b[39;00m \u001b[38;5;28misinstance\u001b[39m(handle, \u001b[38;5;28mstr\u001b[39m):\n\u001b[32m    869\u001b[39m     \u001b[38;5;66;03m# Check whether the filename is to be opened in binary mode.\u001b[39;00m\n\u001b[32m    870\u001b[39m     \u001b[38;5;66;03m# Binary mode does not support 'encoding' and 'newline'.\u001b[39;00m\n\u001b[32m    871\u001b[39m     \u001b[38;5;28;01mif\u001b[39;00m ioargs.encoding \u001b[38;5;129;01mand\u001b[39;00m \u001b[33m\"\u001b[39m\u001b[33mb\u001b[39m\u001b[33m\"\u001b[39m \u001b[38;5;129;01mnot\u001b[39;00m \u001b[38;5;129;01min\u001b[39;00m ioargs.mode:\n\u001b[32m    872\u001b[39m         \u001b[38;5;66;03m# Encoding\u001b[39;00m\n\u001b[32m--> \u001b[39m\u001b[32m873\u001b[39m         handle = \u001b[38;5;28mopen\u001b[39m(\n\u001b[32m    874\u001b[39m             handle,\n\u001b[32m    875\u001b[39m             ioargs.mode,\n\u001b[32m    876\u001b[39m             encoding=ioargs.encoding,\n\u001b[32m    877\u001b[39m             errors=errors,\n\u001b[32m    878\u001b[39m             newline=\u001b[33m\"\u001b[39m\u001b[33m\"\u001b[39m,\n\u001b[32m    879\u001b[39m         )\n\u001b[32m    880\u001b[39m     \u001b[38;5;28;01melse\u001b[39;00m:\n\u001b[32m    881\u001b[39m         \u001b[38;5;66;03m# Binary mode\u001b[39;00m\n\u001b[32m    882\u001b[39m         handle = \u001b[38;5;28mopen\u001b[39m(handle, ioargs.mode)\n",
      "\u001b[31mFileNotFoundError\u001b[39m: [Errno 2] No such file or directory: 'athlete_events.csv'"
     ]
    }
   ],
   "source": [
    "data = pd.read_csv(\"athlete_events.csv\")"
   ]
  },
  {
   "cell_type": "markdown",
   "id": "8038de26",
   "metadata": {},
   "source": [
    "<h3 align=right style=\"line-height:200%;font-family:vazir;color:#0099cc\">\n",
    "<font face=\"vazir\" color=\"#0099cc\">\n",
    "مرحله دوم\n",
    "</font>\n",
    "</h3>\n",
    "\n",
    "<p dir=rtl style=\"direction: rtl;text-align: right;line-height:200%;font-family:vazir;font-size:medium\">\n",
    "<font face=\"vazir\" size=3>\n",
    "در این مرحلهٔ اختیاری، با استفاده از توابع info() و describe() در کتابخانهٔ Pandas، می‌توانید ساختار کلی و آمار توصیفی مجموعه‌داده را بررسی کرده و درک بهتری از ویژگی‌های آن به‌دست آورید.\n",
    "</font>\n",
    "</p>"
   ]
  },
  {
   "cell_type": "code",
   "execution_count": null,
   "id": "99a3c719-e586-4bad-980b-a45970e780c8",
   "metadata": {
    "ExecuteTime": {
     "end_time": "2025-05-17T23:08:19.164038200Z",
     "start_time": "2025-05-17T23:08:19.107338500Z"
    }
   },
   "outputs": [
    {
     "name": "stdout",
     "output_type": "stream",
     "text": [
      "<class 'pandas.core.frame.DataFrame'>\n",
      "RangeIndex: 271116 entries, 0 to 271115\n",
      "Data columns (total 15 columns):\n",
      " #   Column  Non-Null Count   Dtype  \n",
      "---  ------  --------------   -----  \n",
      " 0   ID      271116 non-null  int64  \n",
      " 1   Name    271116 non-null  object \n",
      " 2   Sex     271116 non-null  object \n",
      " 3   Age     261642 non-null  float64\n",
      " 4   Height  210945 non-null  float64\n",
      " 5   Weight  208241 non-null  float64\n",
      " 6   Team    271116 non-null  object \n",
      " 7   NOC     271116 non-null  object \n",
      " 8   Games   271116 non-null  object \n",
      " 9   Year    271116 non-null  int64  \n",
      " 10  Season  271116 non-null  object \n",
      " 11  City    271116 non-null  object \n",
      " 12  Sport   271116 non-null  object \n",
      " 13  Event   271116 non-null  object \n",
      " 14  Medal   39783 non-null   object \n",
      "dtypes: float64(3), int64(2), object(10)\n",
      "memory usage: 31.0+ MB\n"
     ]
    },
    {
     "data": {
      "text/html": [
       "<div>\n",
       "<style scoped>\n",
       "    .dataframe tbody tr th:only-of-type {\n",
       "        vertical-align: middle;\n",
       "    }\n",
       "\n",
       "    .dataframe tbody tr th {\n",
       "        vertical-align: top;\n",
       "    }\n",
       "\n",
       "    .dataframe thead th {\n",
       "        text-align: right;\n",
       "    }\n",
       "</style>\n",
       "<table border=\"1\" class=\"dataframe\">\n",
       "  <thead>\n",
       "    <tr style=\"text-align: right;\">\n",
       "      <th></th>\n",
       "      <th>ID</th>\n",
       "      <th>Age</th>\n",
       "      <th>Height</th>\n",
       "      <th>Weight</th>\n",
       "      <th>Year</th>\n",
       "    </tr>\n",
       "  </thead>\n",
       "  <tbody>\n",
       "    <tr>\n",
       "      <th>count</th>\n",
       "      <td>271116.000000</td>\n",
       "      <td>261642.000000</td>\n",
       "      <td>210945.000000</td>\n",
       "      <td>208241.000000</td>\n",
       "      <td>271116.000000</td>\n",
       "    </tr>\n",
       "    <tr>\n",
       "      <th>mean</th>\n",
       "      <td>68248.954396</td>\n",
       "      <td>25.556898</td>\n",
       "      <td>175.338970</td>\n",
       "      <td>70.702393</td>\n",
       "      <td>1978.378480</td>\n",
       "    </tr>\n",
       "    <tr>\n",
       "      <th>std</th>\n",
       "      <td>39022.286345</td>\n",
       "      <td>6.393561</td>\n",
       "      <td>10.518462</td>\n",
       "      <td>14.348020</td>\n",
       "      <td>29.877632</td>\n",
       "    </tr>\n",
       "    <tr>\n",
       "      <th>min</th>\n",
       "      <td>1.000000</td>\n",
       "      <td>10.000000</td>\n",
       "      <td>127.000000</td>\n",
       "      <td>25.000000</td>\n",
       "      <td>1896.000000</td>\n",
       "    </tr>\n",
       "    <tr>\n",
       "      <th>25%</th>\n",
       "      <td>34643.000000</td>\n",
       "      <td>21.000000</td>\n",
       "      <td>168.000000</td>\n",
       "      <td>60.000000</td>\n",
       "      <td>1960.000000</td>\n",
       "    </tr>\n",
       "    <tr>\n",
       "      <th>50%</th>\n",
       "      <td>68205.000000</td>\n",
       "      <td>24.000000</td>\n",
       "      <td>175.000000</td>\n",
       "      <td>70.000000</td>\n",
       "      <td>1988.000000</td>\n",
       "    </tr>\n",
       "    <tr>\n",
       "      <th>75%</th>\n",
       "      <td>102097.250000</td>\n",
       "      <td>28.000000</td>\n",
       "      <td>183.000000</td>\n",
       "      <td>79.000000</td>\n",
       "      <td>2002.000000</td>\n",
       "    </tr>\n",
       "    <tr>\n",
       "      <th>max</th>\n",
       "      <td>135571.000000</td>\n",
       "      <td>97.000000</td>\n",
       "      <td>226.000000</td>\n",
       "      <td>214.000000</td>\n",
       "      <td>2016.000000</td>\n",
       "    </tr>\n",
       "  </tbody>\n",
       "</table>\n",
       "</div>"
      ],
      "text/plain": [
       "                  ID            Age         Height         Weight  \\\n",
       "count  271116.000000  261642.000000  210945.000000  208241.000000   \n",
       "mean    68248.954396      25.556898     175.338970      70.702393   \n",
       "std     39022.286345       6.393561      10.518462      14.348020   \n",
       "min         1.000000      10.000000     127.000000      25.000000   \n",
       "25%     34643.000000      21.000000     168.000000      60.000000   \n",
       "50%     68205.000000      24.000000     175.000000      70.000000   \n",
       "75%    102097.250000      28.000000     183.000000      79.000000   \n",
       "max    135571.000000      97.000000     226.000000     214.000000   \n",
       "\n",
       "                Year  \n",
       "count  271116.000000  \n",
       "mean     1978.378480  \n",
       "std        29.877632  \n",
       "min      1896.000000  \n",
       "25%      1960.000000  \n",
       "50%      1988.000000  \n",
       "75%      2002.000000  \n",
       "max      2016.000000  "
      ]
     },
     "execution_count": 37,
     "metadata": {},
     "output_type": "execute_result"
    }
   ],
   "source": [
    "data.info()\n",
    "data.describe()"
   ]
  },
  {
   "cell_type": "markdown",
   "id": "827e712a",
   "metadata": {},
   "source": [
    "<h3 align=right style=\"line-height:200%;font-family:vazir;color:#0099cc\">\n",
    "<font face=\"vazir\" color=\"#0099cc\">\n",
    "مرحله سوم\n",
    "</font>\n",
    "</h3>\n",
    "\n",
    "<p dir=rtl style=\"direction: rtl;text-align: right;line-height:200%;font-family:vazir;font-size:medium\">\n",
    "<font face=\"vazir\" size=3>\n",
    "تعداد مقادیر گمشده (NaN) در هر ستون از مجموعه‌داده را محاسبه کنید. این تحلیل به شناسایی ستون‌هایی که دارای داده‌های ناقص هستند کمک می‌کند و امکان تصمیم‌گیری مناسب برای پاک‌سازی یا تکمیل داده‌ها را فراهم می‌سازد.\n",
    "\n",
    "</font>\n",
    "</p>"
   ]
  },
  {
   "cell_type": "code",
   "execution_count": null,
   "id": "b7349fce-4e5d-462b-beab-768d1eb016a7",
   "metadata": {
    "ExecuteTime": {
     "end_time": "2025-05-17T23:08:19.228686900Z",
     "start_time": "2025-05-17T23:08:19.177397600Z"
    }
   },
   "outputs": [
    {
     "data": {
      "text/plain": [
       "ID             0\n",
       "Name           0\n",
       "Sex            0\n",
       "Age         9474\n",
       "Height     60171\n",
       "Weight     62875\n",
       "Team           0\n",
       "NOC            0\n",
       "Games          0\n",
       "Year           0\n",
       "Season         0\n",
       "City           0\n",
       "Sport          0\n",
       "Event          0\n",
       "Medal     231333\n",
       "dtype: int64"
      ]
     },
     "execution_count": 38,
     "metadata": {},
     "output_type": "execute_result"
    }
   ],
   "source": [
    "data.isna().sum()"
   ]
  },
  {
   "cell_type": "markdown",
   "id": "953c32c3",
   "metadata": {},
   "source": [
    "<h3 align=right style=\"line-height:200%;font-family:vazir;color:#0099cc\">\n",
    "<font face=\"vazir\" color=\"#0099cc\">\n",
    "مرحله چهارم\n",
    "</font>\n",
    "</h3>\n",
    "\n",
    "<p dir=rtl style=\"direction: rtl;text-align: right;line-height:200%;font-family:vazir;font-size:medium\">\n",
    "<font face=\"vazir\" size=3>\n",
    "در این مرحله، ستون‌هایی را که بیش از نیمی از مقادیرشان گمشده (NaN) هستند، از مجموعه‌داده حذف کنید.\n",
    "\n",
    "</font>\n",
    "</p>"
   ]
  },
  {
   "cell_type": "code",
   "execution_count": null,
   "id": "6f65efd6",
   "metadata": {
    "ExecuteTime": {
     "end_time": "2025-05-17T23:08:19.252634700Z",
     "start_time": "2025-05-17T23:08:19.231634400Z"
    }
   },
   "outputs": [],
   "source": [
    "cols_to_drop = data.columns[data.isna().sum() > (len(data) / 2)]\n",
    "data.drop(columns=cols_to_drop, inplace=True)\n"
   ]
  },
  {
   "cell_type": "markdown",
   "id": "6ef41347",
   "metadata": {},
   "source": [
    "<h3 align=right style=\"line-height:200%;font-family:vazir;color:#0099cc\">\n",
    "<font face=\"vazir\" color=\"#0099cc\">\n",
    "مرحله پنجم\n",
    "</font>\n",
    "</h3>\n",
    "\n",
    "<p dir=rtl style=\"direction: rtl;text-align: right;line-height:200%;font-family:vazir;font-size:medium\">\n",
    "در این مرحله، باید سطرهای تکراری را از مجموعه‌داده حذف کنید تا تحلیل‌های شما دقیق‌تر و معتبرتر باشد.\n",
    "</font>\n",
    "</p>"
   ]
  },
  {
   "cell_type": "code",
   "execution_count": null,
   "id": "76ee10a4-9a70-4943-b8c4-f5a6060bbf12",
   "metadata": {
    "ExecuteTime": {
     "end_time": "2025-05-17T23:08:19.472031700Z",
     "start_time": "2025-05-17T23:08:19.255384200Z"
    }
   },
   "outputs": [],
   "source": [
    "data.drop_duplicates(inplace=True)"
   ]
  },
  {
   "cell_type": "markdown",
   "id": "e92e4e7d",
   "metadata": {},
   "source": [
    "<h3 align=right style=\"line-height:200%;font-family:vazir;color:#0099cc\">\n",
    "<font face=\"vazir\" color=\"#0099cc\">\n",
    "مرحله ششم\n",
    "</font>\n",
    "</h3>\n",
    "\n",
    "<p dir=rtl style=\"direction: rtl;text-align: right;line-height:200%;font-family:vazir;font-size:medium\">\n",
    "در این بخش، تمام سطرهای مجموعه‌داده که شامل مقادیر NaN (داده‌های خالی یا تعریف نشده) هستند را حذف خواهیم کرد. دقت کنید که پس از این مرحله مجموعه‌داده نباید شامل هیچ مقدار NAN باشد.\n",
    "</font>\n",
    "</p>"
   ]
  },
  {
   "cell_type": "code",
   "execution_count": null,
   "id": "b6f106f9",
   "metadata": {
    "ExecuteTime": {
     "end_time": "2025-05-17T23:08:19.584608Z",
     "start_time": "2025-05-17T23:08:19.521600300Z"
    }
   },
   "outputs": [],
   "source": [
    "data.dropna(inplace=True)"
   ]
  },
  {
   "cell_type": "markdown",
   "id": "b2f62bca",
   "metadata": {},
   "source": [
    "<h3 align=right style=\"line-height:200%;font-family:vazir;color:#0099cc\">\n",
    "<font face=\"vazir\" color=\"#0099cc\">\n",
    "مرحله هفتم\n",
    "</font>\n",
    "</h3>\n",
    "\n",
    "<p dir=rtl style=\"direction: rtl;text-align: right;line-height:200%;font-family:vazir;font-size:medium\">\n",
    "<font face=\"vazir\" size=3>\n",
    "در این مرحله، با استفاده از مجموعه داده موجود، می‌خواهیم تعداد ورزشکاران شرکت‌کننده در هر رشته المپیک را محاسبه کنیم. نتیجه این تحلیل را در یک مجموعه داده جدید با ساختار زیر ذخیره خواهیم کرد:\n",
    "\n",
    "ستون sport: نام رشته ورزشی\n",
    "<br>\n",
    "ستون athlete_count: تعداد ورزشکاران شرکت‌کننده در آن رشته\n",
    "\n",
    "</font>\n",
    "</p>"
   ]
  },
  {
   "cell_type": "code",
   "execution_count": 68,
   "id": "b9ed3a1d-9b9e-448c-ac23-19f5fcc1397a",
   "metadata": {
    "ExecuteTime": {
     "end_time": "2025-05-17T23:08:19.636864100Z",
     "start_time": "2025-05-17T23:08:19.623957300Z"
    }
   },
   "outputs": [],
   "source": [
    "sports_counts = data['Sport'].value_counts().reset_index()\n",
    "sports_counts.columns = ['sport', 'athlete_count']"
   ]
  },
  {
   "cell_type": "markdown",
   "id": "5c2d39a1",
   "metadata": {},
   "source": [
    "<h3 align=right style=\"line-height:200%;font-family:vazir;color:#0099cc\">\n",
    "<font face=\"vazir\" color=\"#0099cc\">\n",
    "مرحله هشتم\n",
    "</font>\n",
    "</h3>\n",
    "\n",
    "<p dir=rtl style=\"direction: rtl;text-align: right;line-height:200%;font-family:vazir;font-size:medium\">\n",
    "<font face=\"vazir\" size=3>\n",
    "پس از ایجاد مجموعه‌داده در مرحله قبل، اکنون زمان ذخیره‌سازی آن فرا رسیده است. قبل از ذخیره‌سازی، مجموعه‌داده را بر اساس ستون athlete_count به صورت نزولی (از بزرگ‌ترین به کوچک‌ترین مقدار) مرتب کنید.\n",
    "<br>\n",
    "سپس، مجموعه‌داده نهایی را در قالب CSV و با نام زیر در همان پوشه‌ای که نوت‌بوک قرار دارد ذخیره نمایید:\n",
    "<br>\n",
    "event_counts.csv\n",
    "<br>\n",
    "\n",
    "توجه کنید که مجموعه‌داده تنها باید حاوی دو ستونی باشد که در مراحل قبل معرفی کردیم و نباید هیچ شاخصی برای این مجموعه‌داده مشخص کرد.\n",
    "\n",
    "</font>\n",
    "</p>"
   ]
  },
  {
   "cell_type": "code",
   "execution_count": 46,
   "id": "41e1854b",
   "metadata": {
    "ExecuteTime": {
     "end_time": "2025-05-17T23:08:19.641720800Z",
     "start_time": "2025-05-17T23:08:19.638856100Z"
    }
   },
   "outputs": [],
   "source": [
    "sports_counts = sports_counts.sort_values(by='athlete_count', ascending=False)\n",
    "sports_counts.to_csv('event_counts.csv', index=False)"
   ]
  },
  {
   "cell_type": "markdown",
   "id": "39bee01b",
   "metadata": {},
   "source": [
    "<h3 align=right style=\"line-height:200%;font-family:vazir;color:#0099cc\">\n",
    "<font face=\"vazir\" color=\"#0099cc\">\n",
    "مرحله نهم\n",
    "</font>\n",
    "</h3>\n",
    "\n",
    "<p dir=rtl style=\"direction: rtl;text-align: right;line-height:200%;font-family:vazir;font-size:medium\">\n",
    "<font face=\"vazir\" size=3>\n",
    "در این بخش مجموعه‌داده جدیدی قرار است که بسازیم. در این بخش، شاخص‌های مهم فیزیولوژیکی ورزشکاران را به تفکیک رشته‌های ورزشی تحلیل می‌کنیم. \n",
    "<br>\n",
    "در این بخش به ازای هر ورزش اطلاعات زیر باید محاسبه گردد:\n",
    "\n",
    "+ میانگین‌ سن ورزشکاران هر‌رشته (Average_Age)\n",
    "+ میانگین‌ قد ورزشکاران هر‌رشته (Average_Height)\n",
    "+ میانگین‌ وزن ورزشکاران هر‌رشته (Average_Weight)\n",
    "</font>\n",
    "</p>\n",
    "\n",
    "<p dir=rtl style=\"direction: rtl;text-align: right;line-height:200%;font-family:vazir;font-size:medium\">\n",
    "<font face=\"vazir\" size=3>\n",
    "مجموعه‌داده جدید باید شامل 4 ستون با نام های زیر باشد:\n",
    "\n",
    "+ Sport\n",
    "+ Average_Age\n",
    "+ Average_Height\n",
    "+ Average_Weight\n",
    "</font>\n",
    "</p>"
   ]
  },
  {
   "cell_type": "code",
   "execution_count": null,
   "id": "cfe76058-83fc-4cfd-acee-be5d36d7010a",
   "metadata": {
    "ExecuteTime": {
     "end_time": "2025-05-17T23:08:19.662859600Z",
     "start_time": "2025-05-17T23:08:19.642723100Z"
    }
   },
   "outputs": [
    {
     "name": "stdout",
     "output_type": "stream",
     "text": [
      "                        Sport        Age      Height     Weight\n",
      "0               Alpine Skiing  23.338184  173.516925  72.082648\n",
      "1                     Archery  26.272969  173.249602  70.014870\n",
      "2            Art Competitions  41.375000  173.062500  78.250000\n",
      "3                   Athletics  25.330203  176.276456  69.273738\n",
      "4                   Badminton  25.800294  174.220264  68.171439\n",
      "5                    Baseball  26.309693  182.599291  85.718085\n",
      "6                  Basketball  25.453926  191.226554  85.801799\n",
      "7            Beach Volleyball  29.135688  186.202602  79.089219\n",
      "8                    Biathlon  26.657855  174.052004  66.631419\n",
      "9                   Bobsleigh  28.650794  181.608617  89.161678\n",
      "10                     Boxing  23.286729  172.867522  65.314233\n",
      "11                   Canoeing  25.410991  178.552072  76.492072\n",
      "12       Cross Country Skiing  26.088724  173.263780  65.880462\n",
      "13                    Curling  31.136585  174.168293  72.131707\n",
      "14                    Cycling  25.104464  176.192976  70.110897\n",
      "15                     Diving  22.252113  166.661860  60.569617\n",
      "16              Equestrianism  34.117944  174.397101  67.803975\n",
      "17                    Fencing  26.913722  177.295548  71.388481\n",
      "18             Figure Skating  22.214947  168.148810  59.543651\n",
      "19                   Football  23.578663  175.436417  70.476142\n",
      "20           Freestyle Skiing  24.419496  170.940854  67.026835\n",
      "21                       Golf  29.583333  174.046296  71.194444\n",
      "22                 Gymnastics  21.688359  162.859668  56.885118\n",
      "23                   Handball  26.492618  183.483579  81.503465\n",
      "24                     Hockey  25.647514  173.387899  69.164869\n",
      "25                 Ice Hockey  25.844944  178.923127  80.837737\n",
      "26                       Judo  25.410279  174.164884  78.820113\n",
      "27                   Lacrosse  28.000000  174.000000  66.500000\n",
      "28                       Luge  24.686275  176.655047  77.282498\n",
      "29          Modern Pentathlon  26.119142  178.082605  70.281573\n",
      "30               Motorboating  27.000000  181.000000  77.000000\n",
      "31            Nordic Combined  24.077934  176.535211  66.915962\n",
      "32        Rhythmic Gymnastics  18.808130  167.795122  48.760976\n",
      "33                     Rowing  25.413607  184.265982  80.168870\n",
      "34                      Rugby  24.100000  173.666667  77.533333\n",
      "35               Rugby Sevens  26.080808  175.363636  79.006734\n",
      "36                    Sailing  29.413531  178.270409  75.980465\n",
      "37                   Shooting  32.011295  173.541598  74.036846\n",
      "38  Short Track Speed Skating  22.836022  170.108199  64.310484\n",
      "39                   Skeleton  29.028736  176.224138  74.166667\n",
      "40                Ski Jumping  23.216684  176.498474  65.087233\n",
      "41               Snowboarding  24.872294  173.043290  69.527056\n",
      "42                   Softball  26.229025  169.428571  67.471655\n",
      "43              Speed Skating  24.215455  174.092500  70.030114\n",
      "44                   Swimming  20.622870  178.602844  70.597784\n",
      "45      Synchronized Swimming  22.485277  168.489988  55.856302\n",
      "46               Table Tennis  26.623812  171.253773  64.915036\n",
      "47                  Taekwondo  24.083893  176.750000  68.088087\n",
      "48                     Tennis  25.099602  178.915837  70.802291\n",
      "49               Trampolining  25.167785  166.563758  59.322148\n",
      "50                  Triathlon  27.893536  173.640684  61.817490\n",
      "51                 Tug-Of-War  26.500000  182.550000  91.800000\n",
      "52                 Volleyball  25.237107  186.978944  78.900214\n",
      "53                 Water Polo  25.705774  185.036043  84.568224\n",
      "54              Weightlifting  25.288837  167.805313  79.612811\n",
      "55                  Wrestling  25.681064  172.418434  75.602777\n"
     ]
    }
   ],
   "source": [
    "avg_stats = data.groupby('Sport')[['Age', 'Height', 'Weight']].mean().reset_index()\n"
   ]
  },
  {
   "cell_type": "markdown",
   "id": "4a600877",
   "metadata": {},
   "source": [
    "<h3 align=right style=\"line-height:200%;font-family:vazir;color:#0099cc\">\n",
    "<font face=\"vazir\" color=\"#0099cc\">\n",
    "مرحله دهم\n",
    "</font>\n",
    "</h3>\n",
    "\n",
    "<p dir=rtl style=\"direction: rtl;text-align: right;line-height:200%;font-family:vazir;font-size:medium\">\n",
    "<font face=\"vazir\" size=3>\n",
    "حال در این مرحله قصد داریم تا مجموعه‌داده مرحله قبل را ذخیره کنیم.\n",
    "<br>\n",
    "\n",
    "ابتدا مجموعه‌داده را بر اساس ستون Sport به صورت صعودی مرتب کنید.\n",
    "<br>\n",
    "سپس مجموعه داده را با نام زیر ذخیره کنید:\n",
    "<br>\n",
    "average_stats_by_sport.csv\n",
    "<br>\n",
    "توجه کنید که این مجموعه‌داده نباید هیچ ستونی شاخصی داشته باشد و پس از ذخیره شدن باید فقط شامل 4 ستونی باشد که در مرحله قبل معرفی شدند.\n",
    "</font>\n",
    "</p>"
   ]
  },
  {
   "cell_type": "code",
   "execution_count": null,
   "id": "4049b7e9",
   "metadata": {
    "ExecuteTime": {
     "end_time": "2025-05-17T23:08:19.668537600Z",
     "start_time": "2025-05-17T23:08:19.665393500Z"
    }
   },
   "outputs": [
    {
     "name": "stdout",
     "output_type": "stream",
     "text": [
      "                        Sport        Age      Height     Weight\n",
      "0               Alpine Skiing  23.338184  173.516925  72.082648\n",
      "1                     Archery  26.272969  173.249602  70.014870\n",
      "2            Art Competitions  41.375000  173.062500  78.250000\n",
      "3                   Athletics  25.330203  176.276456  69.273738\n",
      "4                   Badminton  25.800294  174.220264  68.171439\n",
      "5                    Baseball  26.309693  182.599291  85.718085\n",
      "6                  Basketball  25.453926  191.226554  85.801799\n",
      "7            Beach Volleyball  29.135688  186.202602  79.089219\n",
      "8                    Biathlon  26.657855  174.052004  66.631419\n",
      "9                   Bobsleigh  28.650794  181.608617  89.161678\n",
      "10                     Boxing  23.286729  172.867522  65.314233\n",
      "11                   Canoeing  25.410991  178.552072  76.492072\n",
      "12       Cross Country Skiing  26.088724  173.263780  65.880462\n",
      "13                    Curling  31.136585  174.168293  72.131707\n",
      "14                    Cycling  25.104464  176.192976  70.110897\n",
      "15                     Diving  22.252113  166.661860  60.569617\n",
      "16              Equestrianism  34.117944  174.397101  67.803975\n",
      "17                    Fencing  26.913722  177.295548  71.388481\n",
      "18             Figure Skating  22.214947  168.148810  59.543651\n",
      "19                   Football  23.578663  175.436417  70.476142\n",
      "20           Freestyle Skiing  24.419496  170.940854  67.026835\n",
      "21                       Golf  29.583333  174.046296  71.194444\n",
      "22                 Gymnastics  21.688359  162.859668  56.885118\n",
      "23                   Handball  26.492618  183.483579  81.503465\n",
      "24                     Hockey  25.647514  173.387899  69.164869\n",
      "25                 Ice Hockey  25.844944  178.923127  80.837737\n",
      "26                       Judo  25.410279  174.164884  78.820113\n",
      "27                   Lacrosse  28.000000  174.000000  66.500000\n",
      "28                       Luge  24.686275  176.655047  77.282498\n",
      "29          Modern Pentathlon  26.119142  178.082605  70.281573\n",
      "30               Motorboating  27.000000  181.000000  77.000000\n",
      "31            Nordic Combined  24.077934  176.535211  66.915962\n",
      "32        Rhythmic Gymnastics  18.808130  167.795122  48.760976\n",
      "33                     Rowing  25.413607  184.265982  80.168870\n",
      "34                      Rugby  24.100000  173.666667  77.533333\n",
      "35               Rugby Sevens  26.080808  175.363636  79.006734\n",
      "36                    Sailing  29.413531  178.270409  75.980465\n",
      "37                   Shooting  32.011295  173.541598  74.036846\n",
      "38  Short Track Speed Skating  22.836022  170.108199  64.310484\n",
      "39                   Skeleton  29.028736  176.224138  74.166667\n",
      "40                Ski Jumping  23.216684  176.498474  65.087233\n",
      "41               Snowboarding  24.872294  173.043290  69.527056\n",
      "42                   Softball  26.229025  169.428571  67.471655\n",
      "43              Speed Skating  24.215455  174.092500  70.030114\n",
      "44                   Swimming  20.622870  178.602844  70.597784\n",
      "45      Synchronized Swimming  22.485277  168.489988  55.856302\n",
      "46               Table Tennis  26.623812  171.253773  64.915036\n",
      "47                  Taekwondo  24.083893  176.750000  68.088087\n",
      "48                     Tennis  25.099602  178.915837  70.802291\n",
      "49               Trampolining  25.167785  166.563758  59.322148\n",
      "50                  Triathlon  27.893536  173.640684  61.817490\n",
      "51                 Tug-Of-War  26.500000  182.550000  91.800000\n",
      "52                 Volleyball  25.237107  186.978944  78.900214\n",
      "53                 Water Polo  25.705774  185.036043  84.568224\n",
      "54              Weightlifting  25.288837  167.805313  79.612811\n",
      "55                  Wrestling  25.681064  172.418434  75.602777\n"
     ]
    }
   ],
   "source": [
    "avg_stats = avg_stats.sort_values(by='Sport', ascending=True)\n",
    "avg_stats.to_csv('average_stats_by_sport.csv', index=False)"
   ]
  },
  {
   "cell_type": "markdown",
   "id": "c70d514f",
   "metadata": {},
   "source": [
    "<h3 align=right style=\"line-height:200%;font-family:vazir;color:#0099cc\">\n",
    "<font face=\"vazir\" color=\"#0099cc\">\n",
    "مرحله یازدهم\n",
    "</font>\n",
    "</h3>\n",
    "\n",
    "<p dir=rtl style=\"direction: rtl;text-align: right;line-height:200%;font-family:vazir;font-size:medium\">\n",
    "<font face=\"vazir\" size=3>\n",
    "حال قصد داریم بفهمیم که توزیع جنسیت ورزشکاران در رشته‌های ورزشی مختلف چگونه است.\n",
    "<br>\n",
    "مجموعه‌داده جدیدی درست کنید که شامل سه ستون زیر باشد:\n",
    "\n",
    "+ ستون Sport: نام ورزش\n",
    "+ ستون Sex: ستونی که جنسیت ورزشکاران یک رشته خاص را مشخص کند.\n",
    "+ ستون  Count: تعداد ورزشکاران زن یا مرد آن رشته و جنسیت.\n",
    "\n",
    "</font>\n",
    "</p>\n",
    "\n",
    "<p dir=rtl style=\"direction: rtl;text-align: right;line-height:200%;font-family:vazir;font-size:medium\">\n",
    "<font face=\"vazir\" size=3>\n",
    "این مجموعه‌داده را بر اساس دو ستون Sport و Sex به شکل صعودی مرتب کنید.\n",
    "<br>\n",
    "سپس مجموعه‌داده نهایی را که مرتب کرده اید را با نام زیر ذخیره کنید.\n",
    "<br>\n",
    "gender_distribution.csv\n",
    "<br>\n",
    "در این مرحله، مجموعه‌داده نهایی را با رعایت 2 شرط اساسی ذخیره خواهیم کرد: عدم استفاده از هیچ ستونی به عنوان شاخص ، حفظ صرفاً سه ستون تعیین‌شده (بدون هیچ ستون اضافی). این رویکرد تضمین می‌کند که خروجی نهایی دقیقاً مطابق با الزامات تحلیل بوده و از یکپارچگی داده‌ها اطمینان حاصل می‌شود.\n",
    "</font>\n",
    "</p>"
   ]
  },
  {
   "cell_type": "code",
   "execution_count": 73,
   "id": "6b4b5312-847c-4645-8fe4-2e06597a93c9",
   "metadata": {
    "ExecuteTime": {
     "end_time": "2025-05-17T23:08:19.699541400Z",
     "start_time": "2025-05-17T23:08:19.676039700Z"
    }
   },
   "outputs": [],
   "source": [
    "gender_stats = data.groupby('Sport').agg({\n",
    "    'Sex': 'first',\n",
    "    'Sport': 'count'\n",
    "}).rename(columns={'Sex': 'Sex', 'Sport': 'Count'}).reset_index()\n",
    "gender_stats.sort_values(by=['Sport', 'Sex'], ascending=True)\n",
    "\n",
    "gender_stats.to_csv('gender_distribution.csv', index=False)"
   ]
  },
  {
   "cell_type": "markdown",
   "id": "e87f00b8",
   "metadata": {},
   "source": [
    "<h3 align=right style=\"line-height:200%;font-family:vazir;color:#0099cc\">\n",
    "<font face=\"vazir\" color=\"#0099cc\">\n",
    "مرحله دوازدهم\n",
    "</font>\n",
    "</h3>\n",
    "\n",
    "<p dir=rtl style=\"direction: rtl;text-align: right;line-height:200%;font-family:vazir;font-size:medium\">\n",
    "<font face=\"vazir\" size=3>\n",
    "حال در این مرحله قصد داریم تا مجموعه‌داده جدیدی تولید کنیم. هدف این است که بدانیم کدام کشورها (کمیته‌های ملی المپیک) بیشترین شرکت‌کننده را در المپیک دارند.\n",
    "<br>\n",
    "\n",
    "این مجموعه‌داده جدید شامل دو ستون خواهد بود:\n",
    "\n",
    "+ ستون NOC: نام کشور(کمیته المپیک)\n",
    "+ ستون participants_by_country: تعداد شرکت‌کنندگان آن کشور \n",
    "</font>\n",
    "</p>\n",
    "\n",
    "<p dir=rtl style=\"direction: rtl;text-align: right;line-height:200%;font-family:vazir;font-size:medium\">\n",
    "<font face=\"vazir\" size=3>\n",
    "سپس این مجموعه‌داده را بر اساس ستون participants_by_country به ترتیب نزولی  مرتب کنید.\n",
    "<br>\n",
    "اگر دارای مقادیر برابر برای ستون participants_by_country بودید، آن را بر اساس ستون NOC به شکل نزولی مرتب کنید.\n",
    "<br>\n",
    "در انتها این مجموعه‌داده را با نام زیر در کنار نوت بوک ذخیره کنید:\n",
    "<br>\n",
    "participants_by_country.csv\n",
    "<br>\n",
    "در این مرحله، مجموعه‌داده نهایی را با رعایت 2 شرط اساسی ذخیره خواهیم کرد: عدم استفاده از هیچ ستونی به عنوان شاخص ، حفظ صرفاً دو ستون تعیین‌شده (بدون هیچ ستون اضافی). این رویکرد تضمین می‌کند که خروجی نهایی دقیقاً مطابق با الزامات تحلیل بوده و از یکپارچگی داده‌ها اطمینان حاصل می‌شود.\n",
    "</font>\n",
    "</p>"
   ]
  },
  {
   "cell_type": "code",
   "execution_count": 72,
   "id": "001ee48c-ab7b-4866-8f4b-9a23c173e7c8",
   "metadata": {
    "ExecuteTime": {
     "end_time": "2025-05-17T23:08:19.719300700Z",
     "start_time": "2025-05-17T23:08:19.707059700Z"
    }
   },
   "outputs": [],
   "source": [
    "participation = data['NOC'].value_counts().reset_index()\n",
    "participation.columns = ['NOC', 'participants_by_country']\n",
    "participation.sort_values(by= 'participants_by_country', ascending=False)\n",
    "\n",
    "participation.to_csv('participants_by_country.csv', index=False)"
   ]
  },
  {
   "cell_type": "markdown",
   "id": "524d8eec",
   "metadata": {},
   "source": [
    "<h3 align=right style=\"line-height:200%;font-family:vazir;color:#0099cc\">\n",
    "<font face=\"vazir\" color=\"#0099cc\">\n",
    "مرحله سیزدهم\n",
    "</font>\n",
    "</h3>\n",
    "\n",
    "<p dir=rtl style=\"direction: rtl;text-align: right;line-height:200%;font-family:vazir;font-size:medium\">\n",
    "<font face=\"vazir\" size=3>\n",
    "در این مرحله قصد داریم تا بدانیم که تعداد ورزشکاران حاضر در هر دوره از المپیک چقدر بوده است. در ادامه مجموعه‌داده جدیدی ایجاد خواهیم کرد .\n",
    "<br>\n",
    "این مجموعه‌داده شامل دو ستون می باشد:\n",
    "\n",
    "+ ستون Year\n",
    "+ ستون Number_of_Athletes\n",
    "</font>\n",
    "</p>\n",
    "\n",
    "<p dir=rtl style=\"direction: rtl;text-align: right;line-height:200%;font-family:vazir;font-size:medium\">\n",
    "<font face=\"vazir\" size=3>\n",
    "سپس مجموعه‌داده را بر اساس ستون Number_of_Athletes به شکل نزولی مرتب کنید.\n",
    "اگر Number_of_Athletes برای دو سطر برابر باشد، آن‌ها را بر اساس ستون Year به شکل نزولی مرتب کنید.\n",
    "<br>\n",
    "در انتها این مجموعه‌داده را با نام زیر در کنار نوت بوک ذخیره کنید:\n",
    "<br>\n",
    "athletes_per_year.csv\n",
    "\n",
    "<br>\n",
    "در این مرحله، مجموعه‌داده نهایی را با رعایت 2 شرط اساسی ذخیره خواهیم کرد: عدم استفاده از هیچ ستونی به عنوان شاخص ، حفظ صرفاً دو ستون تعیین‌شده (بدون هیچ ستون اضافی). این رویکرد تضمین می‌کند که خروجی نهایی دقیقاً مطابق با الزامات تحلیل بوده و از یکپارچگی داده‌ها اطمینان حاصل می‌شود.\n",
    "\n",
    "</font>\n",
    "</p>"
   ]
  },
  {
   "cell_type": "code",
   "execution_count": 81,
   "id": "c13fe33b-73bd-4d8e-b144-2f157f4d7d6e",
   "metadata": {
    "ExecuteTime": {
     "end_time": "2025-05-17T23:08:19.735478100Z",
     "start_time": "2025-05-17T23:08:19.725086300Z"
    }
   },
   "outputs": [],
   "source": [
    "per_year = data['Year'].value_counts().reset_index()\n",
    "per_year.columns = ['Year', 'Number_of_Athletes']\n",
    "per_year.sort_values(by=['Number_of_Athletes', 'Year'], ascending=False)\n",
    "per_year.to_csv('athletes_per_year.csv', index=False)"
   ]
  },
  {
   "cell_type": "markdown",
   "id": "4d7bca7d",
   "metadata": {},
   "source": [
    "<h3 align=right style=\"line-height:200%;font-family:vazir;color:#0099cc\">\n",
    "<font face=\"vazir\" color=\"#0099cc\">\n",
    "مرحله پایانی: سلول جواب‌ساز\n",
    "</font>\n",
    "</h3>\n",
    "\n",
    "<p dir=rtl style=\"direction: rtl;text-align: right;line-height:200%;font-family:vazir;font-size:medium\">\n",
    "<font face=\"vazir\" size=3>\n",
    "بدون هیچگونه تغییری، این سلول را اجرا کنید تا فایل پاسخ شما آماده شود.\n",
    "</font>\n",
    "</p>"
   ]
  },
  {
   "cell_type": "code",
   "execution_count": 82,
   "id": "188c6858",
   "metadata": {
    "ExecuteTime": {
     "end_time": "2025-05-17T23:08:19.740506900Z",
     "start_time": "2025-05-17T23:08:19.738480700Z"
    }
   },
   "outputs": [
    {
     "name": "stdout",
     "output_type": "stream",
     "text": [
      "File Paths:\n",
      "['notebook.ipynb', 'athletes_per_year.csv', 'average_stats_by_sport.csv', 'event_counts.csv', 'gender_distribution.csv', 'participants_by_country.csv']\n"
     ]
    }
   ],
   "source": [
    "import zipfile\n",
    "\n",
    "def compress(file_names):\n",
    "    print(\"File Paths:\")\n",
    "    print(file_names)\n",
    "    # Select the compression mode ZIP_DEFLATED for compression\n",
    "    # or zipfile.ZIP_STORED to just store the file\n",
    "    compression = zipfile.ZIP_DEFLATED\n",
    "    # create the zip file first parameter path/name, second mode\n",
    "    with zipfile.ZipFile(\"result.zip\", mode=\"w\") as zf:\n",
    "        for file_name in file_names:\n",
    "            # Add file to the zip file\n",
    "            # first parameter file to zip, second filename in zip\n",
    "            zf.write('./' + file_name, file_name, compress_type=compression)\n",
    "\n",
    "\n",
    "file_names = [\"notebook.ipynb\", \"athletes_per_year.csv\", \"average_stats_by_sport.csv\", \"event_counts.csv\", \"gender_distribution.csv\", \"participants_by_country.csv\"]\n",
    "compress(file_names)"
   ]
  }
 ],
 "metadata": {
  "kernelspec": {
   "display_name": "env",
   "language": "python",
   "name": "python3"
  },
  "language_info": {
   "codemirror_mode": {
    "name": "ipython",
    "version": 3
   },
   "file_extension": ".py",
   "mimetype": "text/x-python",
   "name": "python",
   "nbconvert_exporter": "python",
   "pygments_lexer": "ipython3",
   "version": "3.11.5"
  }
 },
 "nbformat": 4,
 "nbformat_minor": 5
}
